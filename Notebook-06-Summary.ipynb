{
    "metadata": {
        "kernelspec": {
            "name": "SQL",
            "display_name": "SQL",
            "language": "sql"
        },
        "language_info": {
            "name": "sql",
            "version": ""
        }
    },
    "nbformat_minor": 2,
    "nbformat": 4,
    "cells": [
        {
            "cell_type": "markdown",
            "source": [
                "<h1>If achieved my goal you will look at Azure Data Studio</h1>\r\n",
                "\r\n",
                "![alt text](./Images_Notebook-01/binoculars.jpg)</br>\r\n",
                "Photo by mostafa meraji on Unsplash\r\n",
                "</br>\r\n",
                "</br>\r\n",
                "</br>\r\n",
                "</br>\r\n",
                "</br>\r\n",
                "</br>\r\n",
                "# Want more information and the notebooks?\r\n",
                "## See https://github.com/rwlpf/10-reasons-to-look-at-using-Azure-Data-Studio/upload\r\n",
                "</br>\r\n",
                "</br>\r\n",
                "</br>\r\n",
                "</br>\r\n",
                "</br>\r\n",
                "</br>\r\n",
                "</br>\r\n",
                "\r\n",
                "# Summary\r\n",
                "</br>\r\n",
                "</br>\r\n",
                "</br>\r\n",
                "</br>\r\n",
                "</br>\r\n",
                "</br>\r\n",
                "</br>\r\n",
                "\r\n",
                "# Cross platform program\r\n",
                "\r\n",
                "![alt text](./Images_Notebook-01/Windows.png)</br> \r\n",
                "\r\n",
                "# AND\r\n",
                "\r\n",
                "![alt text](./Images_Notebook-01/mac.png)</br>\r\n",
                "\r\n",
                "# AND \r\n",
                "\r\n",
                "![alt text](./Images_Notebook-01/220px-Tux.png)\r\n",
                "\r\n",
                "</Br>\r\n",
                "\r\n",
                "# Has a few more colour themes than SSMS \r\n",
                "\r\n",
                "![alt text](./Images_Notebook-05/steve-johnson-wpw8sHoBtSY-unsplash.jpg)\r\n",
                "\r\n",
                "<span>Photo by <a href=\"https://unsplash.com/@steve_j?utm_source=unsplash&amp;utm_medium=referral&amp;utm_content=creditCopyText\">Steve Johnson</a> on <a href=\"https://unsplash.com/s/photos/rainbow?utm_source=unsplash&amp;utm_medium=referral&amp;utm_content=creditCopyText\">Unsplash</a></span>\r\n",
                "\r\n",
                "# Azure Data Studio makes it really easy to run Docker containers running SQL server\r\n",
                "\r\n",
                "<image here>\r\n",
                "\r\n",
                "# So many more extentions that SSMS \r\n",
                "\r\n",
                "# Also has NoteBook support\r\n",
                "\r\n",
                "# GitHub Integration\r\n",
                "\r\n",
                "# Folder explorer\r\n",
                "\r\n",
                "# Updated each and every month (not every SQL server release)\r\n",
                ""
            ],
            "metadata": {
                "azdata_cell_guid": "ea7aa388-3acb-42b6-aab0-16a8375c4fd4"
            }
        }
    ]
}