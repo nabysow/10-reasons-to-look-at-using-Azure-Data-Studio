{
    "metadata": {
        "kernelspec": {
            "name": "python3",
            "display_name": "Python 3"
        },
        "language_info": {
            "name": "python",
            "version": "3.6.6",
            "mimetype": "text/x-python",
            "codemirror_mode": {
                "name": "ipython",
                "version": 3
            },
            "pygments_lexer": "ipython3",
            "nbconvert_exporter": "python",
            "file_extension": ".py"
        }
    },
    "nbformat_minor": 2,
    "nbformat": 4,
    "cells": [
        {
            "cell_type": "code",
            "source": [
                "#load the required libaries\r\n",
                "import requests, json, urllib.request, pyodbc \r\n",
                "\r\n",
                "#1 - call the API call and get the Jason string returned is this into a dict Object which is then cast to a string object.\r\n",
                "url = 'https://sessionize.com/api/v2/jus73qsr/view/all'\r\n",
                "\r\n",
                "#https://stackoverflow.com/questions/12965203/how-to-get-json-from-webpage-into-python-script\r\n",
                "data = urllib.request.urlopen(url).read()\r\n",
                "output = json.loads(data)\r\n",
                "\r\n",
                "#Convert the 'Dict' object outputed to a string object\r\n",
                "stringOutput = json.dumps(output)\r\n",
                "\r\n",
                "\r\n",
                "#https://github.com/jiangwen365/pypyodbc\r\n",
                "#db_host = database instance name\r\n",
                "#db_host = 'serverhost'\r\n",
                "db_host = 'WIN-OPT-077\\MSSQLSERVER_2016'\r\n",
                "#db_name = is the name of the database which contains the table going to write the data to\r\n",
                "db_name = 'JsonTest'\r\n",
                "#SQL user account which is member of db_datawriter and db_ddladmin roles for the database where going to create the database\r\n",
                "db_user = 'JsonUser'\r\n",
                "db_password = 'test123'\r\n",
                "connection_string = 'Driver={SQL Server};Server=' + db_host + ';Database=' + db_name + ';UID=' + db_user + ';PWD=' + db_password + ';'\r\n",
                "#connection_string = 'Driver={SQL Server};Server=' + db_host + ';Database=' + db_name + ';' +' Trusted_Connection=yes;'\r\n",
                "#conn = 'Driver={SQL Server};Server=' + db_host + ';Database=' + db_name + ';' +' Trusted_Connection=yes;'\r\n",
                "\r\n",
                "#2 - open a connection to a SQL database run SQL script to create table if does not exist\r\n",
                "#open connection to the database\r\n",
                "cursor = pyodbc.connect(connection_string)\r\n",
                "\r\n",
                "#create the table if it does not exist\r\n",
                "SQL = \"IF EXISTS (SELECT * FROM sys.tables WHERE name = 'JsonData' AND type = 'U') DROP TABLE [JsonData]; \"\r\n",
                "SQL = SQL + \" CREATE TABLE [dbo].[JsonData]([Data] NVARCHAR(MAX) NULL);\"\r\n",
                "\r\n",
                "cursor.execute(SQL)\r\n",
                "cursor.commit()\r\n",
                "\r\n",
                "#3 - insert Json string into field in the table\r\n",
                "#https://github.com/jiangwen365/pypyodbc\r\n",
                "cursor.execute(\"INSERT INTO [dbo].[JsonData]([Data]) VALUES (?)\",(stringOutput,))\r\n",
                "cursor.commit()\r\n",
                "\r\n",
                "#Close connect to the database\r\n",
                "cursor.close()"
            ],
            "metadata": {
                "tags": [],
                "azdata_cell_guid": "62932ead-f247-4f84-a603-228a577f87e7"
            },
            "outputs": [],
            "execution_count": 3
        }
    ]
}