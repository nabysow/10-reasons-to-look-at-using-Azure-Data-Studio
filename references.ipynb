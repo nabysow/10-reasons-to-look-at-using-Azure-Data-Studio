{
    "metadata": {
        "kernelspec": {
            "name": "SQL",
            "display_name": "SQL",
            "language": "sql"
        },
        "language_info": {
            "name": "sql",
            "version": ""
        }
    },
    "nbformat_minor": 2,
    "nbformat": 4,
    "cells": [
        {
            "cell_type": "markdown",
            "source": [
                "\r\n",
                "\r\n",
                "https://chocolatey.org/courses/installation/installing?method=installing-chocolatey?quiz=true\r\n",
                "\r\n",
                "\r\n",
                "\r\n",
                "\r\n",
                "https://stefanscherer.github.io/how-to-install-docker-the-chocolatey-way/\r\n",
                "\r\n",
                "\r\n",
                "https://glennsqlperformance.com/resources/"
            ],
            "metadata": {
                "azdata_cell_guid": "ca121478-e573-4408-a64f-898c75056aff"
            }
        },
        {
            "cell_type": "code",
            "source": [
                ""
            ],
            "metadata": {
                "azdata_cell_guid": "ddf5fb68-d6ac-4bdf-a73b-f8792ef1f759"
            },
            "outputs": [],
            "execution_count": null
        }
    ]
}