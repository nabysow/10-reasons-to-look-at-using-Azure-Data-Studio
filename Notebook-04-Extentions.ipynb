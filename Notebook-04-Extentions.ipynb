{
    "metadata": {
        "kernelspec": {
            "name": "SQL",
            "display_name": "SQL",
            "language": "sql"
        },
        "language_info": {
            "name": "sql",
            "version": ""
        }
    },
    "nbformat_minor": 2,
    "nbformat": 4,
    "cells": [
        {
            "cell_type": "markdown",
            "source": [
                "![alt text](https://media.giphy.com/media/oHxlPYTkAclzi/giphy.gif)\r\n",
                "\r\n",
                "</br>\r\n",
                "</br>\r\n",
                "\r\n",
                "# Pssst beardy this a tough audience to impress!\r\n",
                "\r\n",
                "</br>\r\n",
                "</br>\r\n",
                "\r\n",
                "</br>\r\n",
                "</br>\r\n",
                "\r\n",
                "# <mark> Wait there  is more !</mark>\r\n",
                "\r\n",
                "# Lets talk Extentions\r\n",
                "\r\n",
                "# (How many does SSMS have?) \r\n",
                "# 5?\r\n",
                "# 10?\r\n",
                "\r\n",
                "</br>\r\n",
                "</br>\r\n",
                "\r\n",
                "</br>\r\n",
                "</br>\r\n",
                "</br>\r\n",
                "</br>\r\n",
                "</br>\r\n",
                "</br>\r\n",
                "</br>\r\n",
                "</br>\r\n",
                "</br>\r\n",
                "</br>\r\n",
                "</br>\r\n",
                "</br>\r\n",
                "</br>\r\n",
                "</br>\r\n",
                "\r\n",
                "## For Azure Data Studio\r\n",
                "## In Sept 2020 over 50 extensions in the marketplace\r\n",
                "\r\n",
                "</br>\r\n",
                "\r\n",
                "</br>\r\n",
                "</br>\r\n",
                "\r\n",
                "</br>\r\n",
                "</br>\r\n",
                "\r\n",
                "# Here is just some of my favourites !!! (too many choices)\r\n",
                ""
            ],
            "metadata": {
                "azdata_cell_guid": "8b41817e-ff2a-41eb-8dfd-46e5c42f67bb"
            }
        },
        {
            "cell_type": "markdown",
            "source": [
                "![alt text](./Images_Notebook-04/Redgate_SQL_Search.jpg)\r\n",
                "\r\n",
                "</br>\r\n",
                "</br>\r\n",
                "</br>\r\n",
                "</br>\r\n",
                "</br>\r\n",
                "</br>\r\n",
                "</br>\r\n",
                "</br>\r\n",
                "\r\n",
                "![alt text](./Images_Notebook-04/Sentry_One_Plan_Explorer.jpg)\r\n",
                "\r\n",
                "</br>\r\n",
                "</br>\r\n",
                "</br>\r\n",
                "</br>\r\n",
                "</br>\r\n",
                "</br>\r\n",
                "</br>\r\n",
                "</br>\r\n",
                "\r\n",
                "![alt text](./Images_Notebook-04/SSMS_Keymap.jpg)\r\n",
                "\r\n",
                "</br>\r\n",
                "</br>\r\n",
                "</br>\r\n",
                "</br>\r\n",
                "</br>\r\n",
                "</br>\r\n",
                "</br>\r\n",
                "</br>\r\n",
                "\r\n",
                "![alt text](./Images_Notebook-04/Server_Reports.jpg)\r\n",
                "\r\n",
                "</br>\r\n",
                "</br>\r\n",
                "</br>\r\n",
                "</br>\r\n",
                "</br>\r\n",
                "</br>\r\n",
                "</br>\r\n",
                "</br>\r\n",
                "\r\n",
                "![alt text](./Images_Notebook-04/PostgresSQL.jpg)\r\n",
                "\r\n",
                ""
            ],
            "metadata": {
                "azdata_cell_guid": "7dfa1051-f93b-440b-b063-9994c63e9819"
            }
        },
        {
            "cell_type": "markdown",
            "source": [
                "# <mark>PSST remember to show them the extention market place over on the left hand side </mark>"
            ],
            "metadata": {
                "azdata_cell_guid": "e92d63d1-0b9b-4758-8236-5335812e901a"
            }
        }
    ]
}